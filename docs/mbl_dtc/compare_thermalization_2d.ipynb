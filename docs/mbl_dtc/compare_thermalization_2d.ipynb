{
 "cells": [
  {
   "cell_type": "code",
   "execution_count": 14,
   "metadata": {
    "colab": {
     "base_uri": "https://localhost:8080/",
     "height": 1000
    },
    "id": "EkaIfQIIkXjE",
    "outputId": "49ea9cac-afcc-4672-e30a-28a5b822d7cc"
   },
   "outputs": [
    {
     "name": "stdout",
     "output_type": "stream",
     "text": [
      "Requirement already satisfied: cirq in /home/augusteh/.virtualenvs/recirq-py3/lib/python3.9/site-packages (0.12.0)\n",
      "Requirement already satisfied: cirq-rigetti==0.12.0 in /home/augusteh/.virtualenvs/recirq-py3/lib/python3.9/site-packages (from cirq) (0.12.0)\n",
      "Requirement already satisfied: cirq-aqt==0.12.0 in /home/augusteh/.virtualenvs/recirq-py3/lib/python3.9/site-packages (from cirq) (0.12.0)\n",
      "Requirement already satisfied: cirq-web==0.12.0 in /home/augusteh/.virtualenvs/recirq-py3/lib/python3.9/site-packages (from cirq) (0.12.0)\n",
      "Requirement already satisfied: cirq-pasqal==0.12.0 in /home/augusteh/.virtualenvs/recirq-py3/lib/python3.9/site-packages (from cirq) (0.12.0)\n",
      "Requirement already satisfied: cirq-ionq==0.12.0 in /home/augusteh/.virtualenvs/recirq-py3/lib/python3.9/site-packages (from cirq) (0.12.0)\n",
      "Requirement already satisfied: cirq-core==0.12.0 in /home/augusteh/.virtualenvs/recirq-py3/lib/python3.9/site-packages (from cirq) (0.12.0)\n",
      "Requirement already satisfied: cirq-google==0.12.0 in /home/augusteh/.virtualenvs/recirq-py3/lib/python3.9/site-packages (from cirq) (0.12.0)\n",
      "Requirement already satisfied: requests~=2.18 in /home/augusteh/.virtualenvs/recirq-py3/lib/python3.9/site-packages (from cirq-aqt==0.12.0->cirq) (2.26.0)\n",
      "Requirement already satisfied: numpy~=1.16 in /home/augusteh/.virtualenvs/recirq-py3/lib/python3.9/site-packages (from cirq-core==0.12.0->cirq) (1.22.0rc1)\n",
      "Requirement already satisfied: tqdm in /home/augusteh/.virtualenvs/recirq-py3/lib/python3.9/site-packages (from cirq-core==0.12.0->cirq) (4.62.3)\n",
      "Requirement already satisfied: sympy in /home/augusteh/.virtualenvs/recirq-py3/lib/python3.9/site-packages (from cirq-core==0.12.0->cirq) (1.9)\n",
      "Requirement already satisfied: sortedcontainers~=2.0 in /home/augusteh/.virtualenvs/recirq-py3/lib/python3.9/site-packages (from cirq-core==0.12.0->cirq) (2.4.0)\n",
      "Requirement already satisfied: scipy in /home/augusteh/.virtualenvs/recirq-py3/lib/python3.9/site-packages (from cirq-core==0.12.0->cirq) (1.7.3)\n",
      "Requirement already satisfied: networkx~=2.4 in /home/augusteh/.virtualenvs/recirq-py3/lib/python3.9/site-packages (from cirq-core==0.12.0->cirq) (2.6.3)\n",
      "Requirement already satisfied: pandas in /home/augusteh/.virtualenvs/recirq-py3/lib/python3.9/site-packages (from cirq-core==0.12.0->cirq) (1.3.4)\n",
      "Requirement already satisfied: typing-extensions in /home/augusteh/.virtualenvs/recirq-py3/lib/python3.9/site-packages (from cirq-core==0.12.0->cirq) (3.10.0.2)\n",
      "Requirement already satisfied: matplotlib~=3.0 in /home/augusteh/.virtualenvs/recirq-py3/lib/python3.9/site-packages (from cirq-core==0.12.0->cirq) (3.5.0)\n",
      "Requirement already satisfied: protobuf~=3.13.0 in /home/augusteh/.virtualenvs/recirq-py3/lib/python3.9/site-packages (from cirq-google==0.12.0->cirq) (3.13.0)\n",
      "Requirement already satisfied: google-api-core[grpc]<2.0.0dev,>=1.14.0 in /home/augusteh/.virtualenvs/recirq-py3/lib/python3.9/site-packages (from cirq-google==0.12.0->cirq) (1.31.4)\n",
      "Requirement already satisfied: idna~=2.10 in /home/augusteh/.virtualenvs/recirq-py3/lib/python3.9/site-packages (from cirq-rigetti==0.12.0->cirq) (2.10)\n",
      "Requirement already satisfied: httpx~=0.15.5 in /home/augusteh/.virtualenvs/recirq-py3/lib/python3.9/site-packages (from cirq-rigetti==0.12.0->cirq) (0.15.5)\n",
      "Requirement already satisfied: sniffio~=1.2.0 in /home/augusteh/.virtualenvs/recirq-py3/lib/python3.9/site-packages (from cirq-rigetti==0.12.0->cirq) (1.2.0)\n",
      "Requirement already satisfied: python-dateutil~=2.8.1 in /home/augusteh/.virtualenvs/recirq-py3/lib/python3.9/site-packages (from cirq-rigetti==0.12.0->cirq) (2.8.2)\n",
      "Requirement already satisfied: qcs-api-client~=0.8.0 in /home/augusteh/.virtualenvs/recirq-py3/lib/python3.9/site-packages (from cirq-rigetti==0.12.0->cirq) (0.8.0)\n",
      "Requirement already satisfied: pydantic~=1.8.2 in /home/augusteh/.virtualenvs/recirq-py3/lib/python3.9/site-packages (from cirq-rigetti==0.12.0->cirq) (1.8.2)\n",
      "Requirement already satisfied: pyjwt~=1.7.1 in /home/augusteh/.virtualenvs/recirq-py3/lib/python3.9/site-packages (from cirq-rigetti==0.12.0->cirq) (1.7.1)\n",
      "Requirement already satisfied: h11~=0.9.0 in /home/augusteh/.virtualenvs/recirq-py3/lib/python3.9/site-packages (from cirq-rigetti==0.12.0->cirq) (0.9.0)\n",
      "Requirement already satisfied: httpcore~=0.11.1 in /home/augusteh/.virtualenvs/recirq-py3/lib/python3.9/site-packages (from cirq-rigetti==0.12.0->cirq) (0.11.1)\n",
      "Requirement already satisfied: toml~=0.10.2 in /home/augusteh/.virtualenvs/recirq-py3/lib/python3.9/site-packages (from cirq-rigetti==0.12.0->cirq) (0.10.2)\n",
      "Requirement already satisfied: retrying~=1.3.3 in /home/augusteh/.virtualenvs/recirq-py3/lib/python3.9/site-packages (from cirq-rigetti==0.12.0->cirq) (1.3.3)\n",
      "Requirement already satisfied: certifi~=2021.5.30 in /home/augusteh/.virtualenvs/recirq-py3/lib/python3.9/site-packages (from cirq-rigetti==0.12.0->cirq) (2021.5.30)\n",
      "Requirement already satisfied: attrs~=20.3.0 in /home/augusteh/.virtualenvs/recirq-py3/lib/python3.9/site-packages (from cirq-rigetti==0.12.0->cirq) (20.3.0)\n",
      "Requirement already satisfied: rfc3339~=6.2 in /home/augusteh/.virtualenvs/recirq-py3/lib/python3.9/site-packages (from cirq-rigetti==0.12.0->cirq) (6.2)\n",
      "Requirement already satisfied: iso8601~=0.1.14 in /home/augusteh/.virtualenvs/recirq-py3/lib/python3.9/site-packages (from cirq-rigetti==0.12.0->cirq) (0.1.16)\n",
      "Requirement already satisfied: pyquil~=3.0.0 in /home/augusteh/.virtualenvs/recirq-py3/lib/python3.9/site-packages (from cirq-rigetti==0.12.0->cirq) (3.0.1)\n",
      "Requirement already satisfied: six~=1.16.0 in /home/augusteh/.virtualenvs/recirq-py3/lib/python3.9/site-packages (from cirq-rigetti==0.12.0->cirq) (1.16.0)\n",
      "Requirement already satisfied: rfc3986~=1.5.0 in /home/augusteh/.virtualenvs/recirq-py3/lib/python3.9/site-packages (from cirq-rigetti==0.12.0->cirq) (1.5.0)\n",
      "Requirement already satisfied: pytz in /home/augusteh/.virtualenvs/recirq-py3/lib/python3.9/site-packages (from google-api-core[grpc]<2.0.0dev,>=1.14.0->cirq-google==0.12.0->cirq) (2021.3)\n",
      "Requirement already satisfied: google-auth<2.0dev,>=1.25.0 in /home/augusteh/.virtualenvs/recirq-py3/lib/python3.9/site-packages (from google-api-core[grpc]<2.0.0dev,>=1.14.0->cirq-google==0.12.0->cirq) (1.35.0)\n",
      "Requirement already satisfied: packaging>=14.3 in /home/augusteh/.virtualenvs/recirq-py3/lib/python3.9/site-packages (from google-api-core[grpc]<2.0.0dev,>=1.14.0->cirq-google==0.12.0->cirq) (21.3)\n",
      "Requirement already satisfied: googleapis-common-protos<2.0dev,>=1.6.0 in /home/augusteh/.virtualenvs/recirq-py3/lib/python3.9/site-packages (from google-api-core[grpc]<2.0.0dev,>=1.14.0->cirq-google==0.12.0->cirq) (1.53.0)\n",
      "Requirement already satisfied: setuptools>=40.3.0 in /home/augusteh/.virtualenvs/recirq-py3/lib/python3.9/site-packages (from google-api-core[grpc]<2.0.0dev,>=1.14.0->cirq-google==0.12.0->cirq) (58.2.0)\n",
      "Requirement already satisfied: grpcio<2.0dev,>=1.29.0 in /home/augusteh/.virtualenvs/recirq-py3/lib/python3.9/site-packages (from google-api-core[grpc]<2.0.0dev,>=1.14.0->cirq-google==0.12.0->cirq) (1.42.0)\n",
      "Requirement already satisfied: pyparsing>=2.2.1 in /home/augusteh/.virtualenvs/recirq-py3/lib/python3.9/site-packages (from matplotlib~=3.0->cirq-core==0.12.0->cirq) (3.0.6)\n",
      "Requirement already satisfied: setuptools-scm>=4 in /home/augusteh/.virtualenvs/recirq-py3/lib/python3.9/site-packages (from matplotlib~=3.0->cirq-core==0.12.0->cirq) (6.3.2)\n",
      "Requirement already satisfied: kiwisolver>=1.0.1 in /home/augusteh/.virtualenvs/recirq-py3/lib/python3.9/site-packages (from matplotlib~=3.0->cirq-core==0.12.0->cirq) (1.3.2)\n",
      "Requirement already satisfied: pillow>=6.2.0 in /home/augusteh/.virtualenvs/recirq-py3/lib/python3.9/site-packages (from matplotlib~=3.0->cirq-core==0.12.0->cirq) (8.4.0)\n",
      "Requirement already satisfied: cycler>=0.10 in /home/augusteh/.virtualenvs/recirq-py3/lib/python3.9/site-packages (from matplotlib~=3.0->cirq-core==0.12.0->cirq) (0.11.0)\n",
      "Requirement already satisfied: fonttools>=4.22.0 in /home/augusteh/.virtualenvs/recirq-py3/lib/python3.9/site-packages (from matplotlib~=3.0->cirq-core==0.12.0->cirq) (4.28.3)\n",
      "Requirement already satisfied: lark<0.12.0,>=0.11.1 in /home/augusteh/.virtualenvs/recirq-py3/lib/python3.9/site-packages (from pyquil~=3.0.0->cirq-rigetti==0.12.0->cirq) (0.11.3)\n",
      "Requirement already satisfied: rpcq<4.0.0,>=3.6.0 in /home/augusteh/.virtualenvs/recirq-py3/lib/python3.9/site-packages (from pyquil~=3.0.0->cirq-rigetti==0.12.0->cirq) (3.9.2)\n",
      "Requirement already satisfied: retry<0.10.0,>=0.9.2 in /home/augusteh/.virtualenvs/recirq-py3/lib/python3.9/site-packages (from pyquil~=3.0.0->cirq-rigetti==0.12.0->cirq) (0.9.2)\n"
     ]
    },
    {
     "name": "stdout",
     "output_type": "stream",
     "text": [
      "Requirement already satisfied: charset-normalizer~=2.0.0 in /home/augusteh/.virtualenvs/recirq-py3/lib/python3.9/site-packages (from requests~=2.18->cirq-aqt==0.12.0->cirq) (2.0.9)\n",
      "Requirement already satisfied: urllib3<1.27,>=1.21.1 in /home/augusteh/.virtualenvs/recirq-py3/lib/python3.9/site-packages (from requests~=2.18->cirq-aqt==0.12.0->cirq) (1.26.7)\n",
      "Requirement already satisfied: mpmath>=0.19 in /home/augusteh/.virtualenvs/recirq-py3/lib/python3.9/site-packages (from sympy->cirq-core==0.12.0->cirq) (1.2.1)\n",
      "Requirement already satisfied: cachetools<5.0,>=2.0.0 in /home/augusteh/.virtualenvs/recirq-py3/lib/python3.9/site-packages (from google-auth<2.0dev,>=1.25.0->google-api-core[grpc]<2.0.0dev,>=1.14.0->cirq-google==0.12.0->cirq) (4.2.4)\n",
      "Requirement already satisfied: pyasn1-modules>=0.2.1 in /home/augusteh/.virtualenvs/recirq-py3/lib/python3.9/site-packages (from google-auth<2.0dev,>=1.25.0->google-api-core[grpc]<2.0.0dev,>=1.14.0->cirq-google==0.12.0->cirq) (0.2.8)\n",
      "Requirement already satisfied: rsa<5,>=3.1.4 in /home/augusteh/.virtualenvs/recirq-py3/lib/python3.9/site-packages (from google-auth<2.0dev,>=1.25.0->google-api-core[grpc]<2.0.0dev,>=1.14.0->cirq-google==0.12.0->cirq) (4.8)\n",
      "Requirement already satisfied: py<2.0.0,>=1.4.26 in /home/augusteh/.virtualenvs/recirq-py3/lib/python3.9/site-packages (from retry<0.10.0,>=0.9.2->pyquil~=3.0.0->cirq-rigetti==0.12.0->cirq) (1.11.0)\n",
      "Requirement already satisfied: decorator>=3.4.2 in /home/augusteh/.virtualenvs/recirq-py3/lib/python3.9/site-packages (from retry<0.10.0,>=0.9.2->pyquil~=3.0.0->cirq-rigetti==0.12.0->cirq) (5.1.0)\n",
      "Requirement already satisfied: pyzmq>=17 in /home/augusteh/.virtualenvs/recirq-py3/lib/python3.9/site-packages (from rpcq<4.0.0,>=3.6.0->pyquil~=3.0.0->cirq-rigetti==0.12.0->cirq) (22.3.0)\n",
      "Requirement already satisfied: python-rapidjson in /home/augusteh/.virtualenvs/recirq-py3/lib/python3.9/site-packages (from rpcq<4.0.0,>=3.6.0->pyquil~=3.0.0->cirq-rigetti==0.12.0->cirq) (1.5)\n",
      "Requirement already satisfied: ruamel.yaml in /home/augusteh/.virtualenvs/recirq-py3/lib/python3.9/site-packages (from rpcq<4.0.0,>=3.6.0->pyquil~=3.0.0->cirq-rigetti==0.12.0->cirq) (0.17.17)\n",
      "Requirement already satisfied: msgpack<1.0,>=0.6 in /home/augusteh/.virtualenvs/recirq-py3/lib/python3.9/site-packages (from rpcq<4.0.0,>=3.6.0->pyquil~=3.0.0->cirq-rigetti==0.12.0->cirq) (0.6.2)\n",
      "Requirement already satisfied: tomli>=1.0.0 in /home/augusteh/.virtualenvs/recirq-py3/lib/python3.9/site-packages (from setuptools-scm>=4->matplotlib~=3.0->cirq-core==0.12.0->cirq) (1.2.2)\n",
      "Requirement already satisfied: pyasn1<0.5.0,>=0.4.6 in /home/augusteh/.virtualenvs/recirq-py3/lib/python3.9/site-packages (from pyasn1-modules>=0.2.1->google-auth<2.0dev,>=1.25.0->google-api-core[grpc]<2.0.0dev,>=1.14.0->cirq-google==0.12.0->cirq) (0.4.8)\n",
      "Requirement already satisfied: ruamel.yaml.clib>=0.1.2 in /home/augusteh/.virtualenvs/recirq-py3/lib/python3.9/site-packages (from ruamel.yaml->rpcq<4.0.0,>=3.6.0->pyquil~=3.0.0->cirq-rigetti==0.12.0->cirq) (0.2.6)\n"
     ]
    }
   ],
   "source": [
    "!pip install cirq --pre"
   ]
  },
  {
   "cell_type": "code",
   "execution_count": 15,
   "metadata": {
    "id": "5tTJoyYMk0bK"
   },
   "outputs": [],
   "source": [
    "import cirq\n",
    "import recirq.mbl_dtc as dtc_utils\n",
    "import numpy as np\n",
    "import matplotlib.pyplot as plt"
   ]
  },
  {
   "cell_type": "code",
   "execution_count": 16,
   "metadata": {
    "id": "D8ntbOBa4MKZ"
   },
   "outputs": [],
   "source": [
    "# define the qubits we'll be using\n",
    "qubit_locations = [(3, 9), (3, 8), (3, 7), (4, 7), (4, 8), (5, 8), (5, 7), (5, 6), (6, 6), (6, 5), (7, 5), (8, 5),\n",
    "              (8, 4), (8, 3), (7, 3), (6, 3)]\n",
    "\n",
    "qubits = [cirq.GridQubit(*idx) for idx in qubit_locations]\n",
    "num_qubits = len(qubits)\n",
    "\n",
    "# prepare our DTC circuit list, with 0 through 100 cycles\n",
    "num_cycles = 100\n",
    "circuit_list = dtc_utils.symbolic_dtc_circuit_list(qubits=qubits, cycles=num_cycles)"
   ]
  },
  {
   "cell_type": "code",
   "execution_count": 17,
   "metadata": {
    "colab": {
     "base_uri": "https://localhost:8080/",
     "height": 511
    },
    "id": "8_rImPnElMGJ",
    "outputId": "d0ddd5af-8ac6-4ae7-8bb7-1aa1ddbc09a9"
   },
   "outputs": [
    {
     "name": "stderr",
     "output_type": "stream",
     "text": [
      "<timed exec>:54: UserWarning: Matplotlib is currently using module://matplotlib_inline.backend_inline, which is a non-GUI backend, so cannot show the figure.\n"
     ]
    },
    {
     "name": "stdout",
     "output_type": "stream",
     "text": [
      "CPU times: user 2min 57s, sys: 1.84 s, total: 2min 58s\n",
      "Wall time: 2min 58s\n"
     ]
    },
    {
     "data": {
      "image/png": "[encoded data removed]",
      "text/plain": [
       "<Figure size 1440x576 with 3 Axes>"
      ]
     },
     "metadata": {
      "needs_background": "light"
     },
     "output_type": "display_data"
    }
   ],
   "source": [
    "%%time\n",
    "# Figure 2d\n",
    "\n",
    "g_options = [0.6, 0.94]\n",
    "instances = 36\n",
    "\n",
    "# random initial state\n",
    "initial_states = np.random.choice(2, (instances, num_qubits))\n",
    "\n",
    "# random noise (h)\n",
    "local_fields = np.random.uniform(-1.0, 1.0, (instances, num_qubits))\n",
    "\n",
    "# parameters for two-qubit FSim gates\n",
    "# zeros for theta, zeta, chi\n",
    "thetas = np.zeros((instances, num_qubits))\n",
    "zetas = np.zeros((instances, num_qubits))\n",
    "chis = np.zeros((instances, num_qubits))\n",
    "\n",
    "# random gammas\n",
    "gammas = -np.random.uniform(0.5*np.pi, 1.5*np.pi, (instances, num_qubits))\n",
    "\n",
    "# phi dependent on gamma\n",
    "phis = -2*gammas\n",
    "\n",
    "# prepare subplots\n",
    "fig, axes = plt.subplots(nrows=1, ncols=2, figsize=(20, 8), sharey=True, sharex=True)\n",
    "\n",
    "# evaluate and yield probabilities and their associated initial states for each of the input options for thermalization (g)\n",
    "for g, axis in zip(g_options, axes):\n",
    "    # expand g for all disorder instances\n",
    "    gs = [g]*instances \n",
    "\n",
    "    # prepare parameter resolvers\n",
    "    param_resolvers = dtc_utils.dtc_param_resolver_sweep(gs, initial_states, local_fields, thetas, zetas, chis, gammas, phis)\n",
    "\n",
    "    # simulate and collect probabilities\n",
    "    probabilities = np.asarray(list(dtc_utils.simulate_dtc_circuit_list_sweep(circuit_list, param_resolvers, qubits)))\n",
    "\n",
    "    # turn probabilities into polarizations, relative to initial_state\n",
    "    polarizations = dtc_utils.get_polarizations(probabilities, num_qubits, cycles_axis=1, probabilities_axis=2, initial_states=initial_states)\n",
    "\n",
    "    # average over all disorder instances\n",
    "    average_polarizations = np.mean(polarizations, axis=0)\n",
    "\n",
    "    # plot polarizations as an image\n",
    "    artist = axis.imshow(average_polarizations.T, aspect = 2.0, vmin=-1.0, vmax=1.0)\n",
    "\n",
    "    # add labels and colorbar and title\n",
    "    axis.set_xlabel('Cycles')\n",
    "    axis.set_ylabel('Qubits')\n",
    "    axis.set_title('Local Polarizations')\n",
    "    \n",
    "# add colorbar and show\n",
    "fig.colorbar(artist, ax=axes.ravel().tolist())\n",
    "fig.show()\n"
   ]
  }
 ],
 "metadata": {
  "colab": {
   "collapsed_sections": [],
   "name": "MBL_DTC Experiment and Graph Recreation",
   "provenance": []
  },
  "kernelspec": {
   "display_name": "Python 3 (ipykernel)",
   "language": "python",
   "name": "python3"
  },
  "language_info": {
   "codemirror_mode": {
    "name": "ipython",
    "version": 3
   },
   "file_extension": ".py",
   "mimetype": "text/x-python",
   "name": "python",
   "nbconvert_exporter": "python",
   "pygments_lexer": "ipython3",
   "version": "3.9.7"
  }
 },
 "nbformat": 4,
 "nbformat_minor": 1
}
