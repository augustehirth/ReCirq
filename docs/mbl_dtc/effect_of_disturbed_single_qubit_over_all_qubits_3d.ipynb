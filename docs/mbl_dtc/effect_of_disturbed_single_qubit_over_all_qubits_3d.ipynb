{
 "cells": [
  {
   "cell_type": "code",
   "execution_count": 1,
   "metadata": {
    "colab": {
     "base_uri": "https://localhost:8080/",
     "height": 1000
    },
    "id": "EkaIfQIIkXjE",
    "outputId": "49ea9cac-afcc-4672-e30a-28a5b822d7cc"
   },
   "outputs": [
    {
     "name": "stdout",
     "output_type": "stream",
     "text": [
      "Requirement already satisfied: cirq in /home/augusteh/.virtualenvs/recirq-py3/lib/python3.9/site-packages (0.12.0)\n",
      "Requirement already satisfied: cirq-aqt==0.12.0 in /home/augusteh/.virtualenvs/recirq-py3/lib/python3.9/site-packages (from cirq) (0.12.0)\n",
      "Requirement already satisfied: cirq-google==0.12.0 in /home/augusteh/.virtualenvs/recirq-py3/lib/python3.9/site-packages (from cirq) (0.12.0)\n",
      "Requirement already satisfied: cirq-ionq==0.12.0 in /home/augusteh/.virtualenvs/recirq-py3/lib/python3.9/site-packages (from cirq) (0.12.0)\n",
      "Requirement already satisfied: cirq-pasqal==0.12.0 in /home/augusteh/.virtualenvs/recirq-py3/lib/python3.9/site-packages (from cirq) (0.12.0)\n",
      "Requirement already satisfied: cirq-core==0.12.0 in /home/augusteh/.virtualenvs/recirq-py3/lib/python3.9/site-packages (from cirq) (0.12.0)\n",
      "Requirement already satisfied: cirq-rigetti==0.12.0 in /home/augusteh/.virtualenvs/recirq-py3/lib/python3.9/site-packages (from cirq) (0.12.0)\n",
      "Requirement already satisfied: cirq-web==0.12.0 in /home/augusteh/.virtualenvs/recirq-py3/lib/python3.9/site-packages (from cirq) (0.12.0)\n",
      "Requirement already satisfied: requests~=2.18 in /home/augusteh/.virtualenvs/recirq-py3/lib/python3.9/site-packages (from cirq-aqt==0.12.0->cirq) (2.26.0)\n",
      "Requirement already satisfied: matplotlib~=3.0 in /home/augusteh/.virtualenvs/recirq-py3/lib/python3.9/site-packages (from cirq-core==0.12.0->cirq) (3.5.0)\n",
      "Requirement already satisfied: sympy in /home/augusteh/.virtualenvs/recirq-py3/lib/python3.9/site-packages (from cirq-core==0.12.0->cirq) (1.9)\n",
      "Requirement already satisfied: networkx~=2.4 in /home/augusteh/.virtualenvs/recirq-py3/lib/python3.9/site-packages (from cirq-core==0.12.0->cirq) (2.6.3)\n",
      "Requirement already satisfied: numpy~=1.16 in /home/augusteh/.virtualenvs/recirq-py3/lib/python3.9/site-packages (from cirq-core==0.12.0->cirq) (1.22.0rc1)\n",
      "Requirement already satisfied: typing-extensions in /home/augusteh/.virtualenvs/recirq-py3/lib/python3.9/site-packages (from cirq-core==0.12.0->cirq) (3.10.0.2)\n",
      "Requirement already satisfied: sortedcontainers~=2.0 in /home/augusteh/.virtualenvs/recirq-py3/lib/python3.9/site-packages (from cirq-core==0.12.0->cirq) (2.4.0)\n",
      "Requirement already satisfied: pandas in /home/augusteh/.virtualenvs/recirq-py3/lib/python3.9/site-packages (from cirq-core==0.12.0->cirq) (1.3.4)\n",
      "Requirement already satisfied: tqdm in /home/augusteh/.virtualenvs/recirq-py3/lib/python3.9/site-packages (from cirq-core==0.12.0->cirq) (4.62.3)\n",
      "Requirement already satisfied: scipy in /home/augusteh/.virtualenvs/recirq-py3/lib/python3.9/site-packages (from cirq-core==0.12.0->cirq) (1.7.3)\n",
      "Requirement already satisfied: google-api-core[grpc]<2.0.0dev,>=1.14.0 in /home/augusteh/.virtualenvs/recirq-py3/lib/python3.9/site-packages (from cirq-google==0.12.0->cirq) (1.31.4)\n",
      "Requirement already satisfied: protobuf~=3.13.0 in /home/augusteh/.virtualenvs/recirq-py3/lib/python3.9/site-packages (from cirq-google==0.12.0->cirq) (3.13.0)\n",
      "Requirement already satisfied: httpcore~=0.11.1 in /home/augusteh/.virtualenvs/recirq-py3/lib/python3.9/site-packages (from cirq-rigetti==0.12.0->cirq) (0.11.1)\n",
      "Requirement already satisfied: sniffio~=1.2.0 in /home/augusteh/.virtualenvs/recirq-py3/lib/python3.9/site-packages (from cirq-rigetti==0.12.0->cirq) (1.2.0)\n",
      "Requirement already satisfied: idna~=2.10 in /home/augusteh/.virtualenvs/recirq-py3/lib/python3.9/site-packages (from cirq-rigetti==0.12.0->cirq) (2.10)\n",
      "Requirement already satisfied: pyjwt~=1.7.1 in /home/augusteh/.virtualenvs/recirq-py3/lib/python3.9/site-packages (from cirq-rigetti==0.12.0->cirq) (1.7.1)\n",
      "Requirement already satisfied: toml~=0.10.2 in /home/augusteh/.virtualenvs/recirq-py3/lib/python3.9/site-packages (from cirq-rigetti==0.12.0->cirq) (0.10.2)\n",
      "Requirement already satisfied: six~=1.16.0 in /home/augusteh/.virtualenvs/recirq-py3/lib/python3.9/site-packages (from cirq-rigetti==0.12.0->cirq) (1.16.0)\n",
      "Requirement already satisfied: h11~=0.9.0 in /home/augusteh/.virtualenvs/recirq-py3/lib/python3.9/site-packages (from cirq-rigetti==0.12.0->cirq) (0.9.0)\n",
      "Requirement already satisfied: retrying~=1.3.3 in /home/augusteh/.virtualenvs/recirq-py3/lib/python3.9/site-packages (from cirq-rigetti==0.12.0->cirq) (1.3.3)\n",
      "Requirement already satisfied: certifi~=2021.5.30 in /home/augusteh/.virtualenvs/recirq-py3/lib/python3.9/site-packages (from cirq-rigetti==0.12.0->cirq) (2021.5.30)\n",
      "Requirement already satisfied: attrs~=20.3.0 in /home/augusteh/.virtualenvs/recirq-py3/lib/python3.9/site-packages (from cirq-rigetti==0.12.0->cirq) (20.3.0)\n",
      "Requirement already satisfied: pydantic~=1.8.2 in /home/augusteh/.virtualenvs/recirq-py3/lib/python3.9/site-packages (from cirq-rigetti==0.12.0->cirq) (1.8.2)\n",
      "Requirement already satisfied: qcs-api-client~=0.8.0 in /home/augusteh/.virtualenvs/recirq-py3/lib/python3.9/site-packages (from cirq-rigetti==0.12.0->cirq) (0.8.0)\n",
      "Requirement already satisfied: python-dateutil~=2.8.1 in /home/augusteh/.virtualenvs/recirq-py3/lib/python3.9/site-packages (from cirq-rigetti==0.12.0->cirq) (2.8.2)\n",
      "Requirement already satisfied: httpx~=0.15.5 in /home/augusteh/.virtualenvs/recirq-py3/lib/python3.9/site-packages (from cirq-rigetti==0.12.0->cirq) (0.15.5)\n",
      "Requirement already satisfied: rfc3339~=6.2 in /home/augusteh/.virtualenvs/recirq-py3/lib/python3.9/site-packages (from cirq-rigetti==0.12.0->cirq) (6.2)\n",
      "Requirement already satisfied: iso8601~=0.1.14 in /home/augusteh/.virtualenvs/recirq-py3/lib/python3.9/site-packages (from cirq-rigetti==0.12.0->cirq) (0.1.16)\n",
      "Requirement already satisfied: pyquil~=3.0.0 in /home/augusteh/.virtualenvs/recirq-py3/lib/python3.9/site-packages (from cirq-rigetti==0.12.0->cirq) (3.0.1)\n",
      "Requirement already satisfied: rfc3986~=1.5.0 in /home/augusteh/.virtualenvs/recirq-py3/lib/python3.9/site-packages (from cirq-rigetti==0.12.0->cirq) (1.5.0)\n",
      "Requirement already satisfied: googleapis-common-protos<2.0dev,>=1.6.0 in /home/augusteh/.virtualenvs/recirq-py3/lib/python3.9/site-packages (from google-api-core[grpc]<2.0.0dev,>=1.14.0->cirq-google==0.12.0->cirq) (1.53.0)\n",
      "Requirement already satisfied: google-auth<2.0dev,>=1.25.0 in /home/augusteh/.virtualenvs/recirq-py3/lib/python3.9/site-packages (from google-api-core[grpc]<2.0.0dev,>=1.14.0->cirq-google==0.12.0->cirq) (1.35.0)\n",
      "Requirement already satisfied: pytz in /home/augusteh/.virtualenvs/recirq-py3/lib/python3.9/site-packages (from google-api-core[grpc]<2.0.0dev,>=1.14.0->cirq-google==0.12.0->cirq) (2021.3)\n",
      "Requirement already satisfied: packaging>=14.3 in /home/augusteh/.virtualenvs/recirq-py3/lib/python3.9/site-packages (from google-api-core[grpc]<2.0.0dev,>=1.14.0->cirq-google==0.12.0->cirq) (21.3)\n",
      "Requirement already satisfied: setuptools>=40.3.0 in /home/augusteh/.virtualenvs/recirq-py3/lib/python3.9/site-packages (from google-api-core[grpc]<2.0.0dev,>=1.14.0->cirq-google==0.12.0->cirq) (58.2.0)\n",
      "Requirement already satisfied: grpcio<2.0dev,>=1.29.0 in /home/augusteh/.virtualenvs/recirq-py3/lib/python3.9/site-packages (from google-api-core[grpc]<2.0.0dev,>=1.14.0->cirq-google==0.12.0->cirq) (1.42.0)\n",
      "Requirement already satisfied: cycler>=0.10 in /home/augusteh/.virtualenvs/recirq-py3/lib/python3.9/site-packages (from matplotlib~=3.0->cirq-core==0.12.0->cirq) (0.11.0)\n",
      "Requirement already satisfied: pillow>=6.2.0 in /home/augusteh/.virtualenvs/recirq-py3/lib/python3.9/site-packages (from matplotlib~=3.0->cirq-core==0.12.0->cirq) (8.4.0)\n",
      "Requirement already satisfied: kiwisolver>=1.0.1 in /home/augusteh/.virtualenvs/recirq-py3/lib/python3.9/site-packages (from matplotlib~=3.0->cirq-core==0.12.0->cirq) (1.3.2)\n",
      "Requirement already satisfied: setuptools-scm>=4 in /home/augusteh/.virtualenvs/recirq-py3/lib/python3.9/site-packages (from matplotlib~=3.0->cirq-core==0.12.0->cirq) (6.3.2)\n",
      "Requirement already satisfied: fonttools>=4.22.0 in /home/augusteh/.virtualenvs/recirq-py3/lib/python3.9/site-packages (from matplotlib~=3.0->cirq-core==0.12.0->cirq) (4.28.3)\n",
      "Requirement already satisfied: pyparsing>=2.2.1 in /home/augusteh/.virtualenvs/recirq-py3/lib/python3.9/site-packages (from matplotlib~=3.0->cirq-core==0.12.0->cirq) (3.0.6)\n",
      "Requirement already satisfied: retry<0.10.0,>=0.9.2 in /home/augusteh/.virtualenvs/recirq-py3/lib/python3.9/site-packages (from pyquil~=3.0.0->cirq-rigetti==0.12.0->cirq) (0.9.2)\n"
     ]
    },
    {
     "name": "stdout",
     "output_type": "stream",
     "text": [
      "Requirement already satisfied: rpcq<4.0.0,>=3.6.0 in /home/augusteh/.virtualenvs/recirq-py3/lib/python3.9/site-packages (from pyquil~=3.0.0->cirq-rigetti==0.12.0->cirq) (3.9.2)\n",
      "Requirement already satisfied: lark<0.12.0,>=0.11.1 in /home/augusteh/.virtualenvs/recirq-py3/lib/python3.9/site-packages (from pyquil~=3.0.0->cirq-rigetti==0.12.0->cirq) (0.11.3)\n",
      "Requirement already satisfied: urllib3<1.27,>=1.21.1 in /home/augusteh/.virtualenvs/recirq-py3/lib/python3.9/site-packages (from requests~=2.18->cirq-aqt==0.12.0->cirq) (1.26.7)\n",
      "Requirement already satisfied: charset-normalizer~=2.0.0 in /home/augusteh/.virtualenvs/recirq-py3/lib/python3.9/site-packages (from requests~=2.18->cirq-aqt==0.12.0->cirq) (2.0.9)\n",
      "Requirement already satisfied: mpmath>=0.19 in /home/augusteh/.virtualenvs/recirq-py3/lib/python3.9/site-packages (from sympy->cirq-core==0.12.0->cirq) (1.2.1)\n",
      "Requirement already satisfied: pyasn1-modules>=0.2.1 in /home/augusteh/.virtualenvs/recirq-py3/lib/python3.9/site-packages (from google-auth<2.0dev,>=1.25.0->google-api-core[grpc]<2.0.0dev,>=1.14.0->cirq-google==0.12.0->cirq) (0.2.8)\n",
      "Requirement already satisfied: rsa<5,>=3.1.4 in /home/augusteh/.virtualenvs/recirq-py3/lib/python3.9/site-packages (from google-auth<2.0dev,>=1.25.0->google-api-core[grpc]<2.0.0dev,>=1.14.0->cirq-google==0.12.0->cirq) (4.8)\n",
      "Requirement already satisfied: cachetools<5.0,>=2.0.0 in /home/augusteh/.virtualenvs/recirq-py3/lib/python3.9/site-packages (from google-auth<2.0dev,>=1.25.0->google-api-core[grpc]<2.0.0dev,>=1.14.0->cirq-google==0.12.0->cirq) (4.2.4)\n",
      "Requirement already satisfied: decorator>=3.4.2 in /home/augusteh/.virtualenvs/recirq-py3/lib/python3.9/site-packages (from retry<0.10.0,>=0.9.2->pyquil~=3.0.0->cirq-rigetti==0.12.0->cirq) (5.1.0)\n",
      "Requirement already satisfied: py<2.0.0,>=1.4.26 in /home/augusteh/.virtualenvs/recirq-py3/lib/python3.9/site-packages (from retry<0.10.0,>=0.9.2->pyquil~=3.0.0->cirq-rigetti==0.12.0->cirq) (1.11.0)\n",
      "Requirement already satisfied: pyzmq>=17 in /home/augusteh/.virtualenvs/recirq-py3/lib/python3.9/site-packages (from rpcq<4.0.0,>=3.6.0->pyquil~=3.0.0->cirq-rigetti==0.12.0->cirq) (22.3.0)\n",
      "Requirement already satisfied: ruamel.yaml in /home/augusteh/.virtualenvs/recirq-py3/lib/python3.9/site-packages (from rpcq<4.0.0,>=3.6.0->pyquil~=3.0.0->cirq-rigetti==0.12.0->cirq) (0.17.17)\n",
      "Requirement already satisfied: python-rapidjson in /home/augusteh/.virtualenvs/recirq-py3/lib/python3.9/site-packages (from rpcq<4.0.0,>=3.6.0->pyquil~=3.0.0->cirq-rigetti==0.12.0->cirq) (1.5)\n",
      "Requirement already satisfied: msgpack<1.0,>=0.6 in /home/augusteh/.virtualenvs/recirq-py3/lib/python3.9/site-packages (from rpcq<4.0.0,>=3.6.0->pyquil~=3.0.0->cirq-rigetti==0.12.0->cirq) (0.6.2)\n",
      "Requirement already satisfied: tomli>=1.0.0 in /home/augusteh/.virtualenvs/recirq-py3/lib/python3.9/site-packages (from setuptools-scm>=4->matplotlib~=3.0->cirq-core==0.12.0->cirq) (1.2.2)\n",
      "Requirement already satisfied: pyasn1<0.5.0,>=0.4.6 in /home/augusteh/.virtualenvs/recirq-py3/lib/python3.9/site-packages (from pyasn1-modules>=0.2.1->google-auth<2.0dev,>=1.25.0->google-api-core[grpc]<2.0.0dev,>=1.14.0->cirq-google==0.12.0->cirq) (0.4.8)\n",
      "Requirement already satisfied: ruamel.yaml.clib>=0.1.2 in /home/augusteh/.virtualenvs/recirq-py3/lib/python3.9/site-packages (from ruamel.yaml->rpcq<4.0.0,>=3.6.0->pyquil~=3.0.0->cirq-rigetti==0.12.0->cirq) (0.2.6)\n"
     ]
    }
   ],
   "source": [
    "!pip install cirq --pre"
   ]
  },
  {
   "cell_type": "code",
   "execution_count": 2,
   "metadata": {
    "id": "5tTJoyYMk0bK"
   },
   "outputs": [],
   "source": [
    "import cirq\n",
    "import numpy as np\n",
    "import matplotlib.pyplot as plt\n",
    "import recirq.mbl_dtc as dtc_utils"
   ]
  },
  {
   "cell_type": "code",
   "execution_count": 3,
   "metadata": {
    "id": "D8ntbOBa4MKZ"
   },
   "outputs": [],
   "source": [
    "# Variables used across all figures\n",
    "\n",
    "# define the qubits we'll be using\n",
    "qubit_locations = [(3, 9), (3, 8), (3, 7), (4, 7), (4, 8), (5, 8), (5, 7), (5, 6), (6, 6), (6, 5), (7, 5), (8, 5),\n",
    "              (8, 4), (8, 3), (7, 3), (6, 3)]\n",
    "\n",
    "qubits = [cirq.GridQubit(*idx) for idx in qubit_locations]\n",
    "num_qubits = len(qubits)\n",
    "\n",
    "# prepare our DTC circuit list, with 0 through 100 cycles\n",
    "num_cycles = 100\n",
    "circuit_list = dtc_utils.symbolic_dtc_circuit_list(qubits=qubits, cycles=num_cycles)"
   ]
  },
  {
   "cell_type": "code",
   "execution_count": 4,
   "metadata": {
    "colab": {
     "background_save": true
    },
    "id": "FA4P0jppyI6Q",
    "outputId": "f6367e7d-3425-4638-846f-72d5c20a97f8"
   },
   "outputs": [
    {
     "name": "stdout",
     "output_type": "stream",
     "text": [
      "CPU times: user 16min 21s, sys: 14.5 s, total: 16min 36s\n",
      "Wall time: 16min 36s\n"
     ]
    }
   ],
   "source": [
    "%%time\n",
    "# Figure 3d\n",
    "\n",
    "def signal_ratio(zeta_1: np.ndarray, zeta_2: np.ndarray): \n",
    "    ''' calculate signal ratio\n",
    "    Args: \n",
    "    - zeta_1: signal (`np.ndarray` of shape (qubits, cycles) to represent polarization over time)\n",
    "    - zeta 2: signal (`np.ndarray` of shape (qubits, cycles) to represent polarization over time)\n",
    "    Returns: \n",
    "    - computed ratio signal of zeta_1 and zeta_2 (`np.ndarray` of shape (qubits, cycles) to represent polarization over time)\n",
    "    '''\n",
    "\n",
    "    return np.abs(zeta_1 - zeta_2)/(np.abs(zeta_1) + np.abs(zeta_2))\n",
    "\n",
    "# prepare two initial states to compare\n",
    "disturb_qubit = 11\n",
    "polarized_initial_state = np.full(num_qubits, 0)\n",
    "disturbed_polarized_initial_state = polarized_initial_state.copy()\n",
    "disturbed_polarized_initial_state[disturb_qubit] = 1\n",
    "initial_states = [polarized_initial_state, disturbed_polarized_initial_state]\n",
    "initial_state_instances = len(initial_states)\n",
    "\n",
    "# we have different disorder instances for the two initial states\n",
    "disorder_instances_options = [64, 81]\n",
    "\n",
    "# constant for thermalization (g) and fixed phi option\n",
    "g = 0.94\n",
    "fixed_phi = -0.4\n",
    "\n",
    "# collect polarizations first\n",
    "all_average_polarizations = []\n",
    "\n",
    "# iterate over initial states and their associated number of disorder instances\n",
    "for initial_state, disorder_instances in zip(initial_states, disorder_instances_options): \n",
    "    \n",
    "    # expand thermalization constant for each disorder instance\n",
    "    gs = np.full(disorder_instances, g)\n",
    "\n",
    "    # parameters for two-qubit FSim gates\n",
    "    # zeros for theta, zeta, chi\n",
    "    thetas = np.zeros((disorder_instances, num_qubits))\n",
    "    zetas = np.zeros((disorder_instances, num_qubits))\n",
    "    chis = np.zeros((disorder_instances, num_qubits))\n",
    "\n",
    "    # disorder parameters h and phi \n",
    "    local_fields = np.random.uniform(-1.0, 1.0, (disorder_instances, num_qubits))\n",
    "    disordered_phis = np.random.uniform(-1.5*np.pi, -0.5*np.pi, (disorder_instances, num_qubits))\n",
    "\n",
    "    # expand fixed phis for all instances and qubits\n",
    "    fixed_phis = np.full((disorder_instances, num_qubits), fixed_phi)\n",
    "\n",
    "    # expand initial states for each disorder instance\n",
    "    initial_state_array = np.asarray([initial_state] * disorder_instances)\n",
    "\n",
    "    average_polarizations_by_phi = []\n",
    "    for random_phi in [True, False]:\n",
    "        # use either random, disordered phis or fixed ones\n",
    "        if random_phi: \n",
    "            phis = disordered_phis\n",
    "        else: \n",
    "            phis = fixed_phis\n",
    "\n",
    "        # gammas dependent on phis\n",
    "        gammas = -1/2*phis\n",
    "\n",
    "        # prepare param resolver\n",
    "        param_resolvers = dtc_utils.dtc_param_resolver_sweep(gs, initial_state_array, local_fields, thetas, zetas, chis, gammas, phis)\n",
    "\n",
    "        # simulate and get probabilities\n",
    "        probabilities = np.asarray(list(dtc_utils.simulate_dtc_circuit_list_sweep(circuit_list, param_resolvers, qubits)))\n",
    "\n",
    "        # turn probabilities into polarizations, this time not relative to initial state\n",
    "        polarizations = dtc_utils.get_polarizations(probabilities, num_qubits, probabilities_axis=2)\n",
    "\n",
    "        # average over disorder instances\n",
    "        average_polarizations = np.mean(polarizations, axis=0)\n",
    "\n",
    "        # store average polarizations\n",
    "        average_polarizations_by_phi.append(average_polarizations)\n",
    "\n",
    "    # store phi average polarizations\n",
    "    all_average_polarizations.append(average_polarizations_by_phi)\n"
   ]
  },
  {
   "cell_type": "code",
   "execution_count": 5,
   "metadata": {
    "colab": {
     "background_save": true
    },
    "id": "hTDEWGDv9WcV",
    "outputId": "718095f5-70c5-410b-fcd2-a3f3a755bc1c"
   },
   "outputs": [
    {
     "name": "stdout",
     "output_type": "stream",
     "text": [
      "CPU times: user 67.9 ms, sys: 125 µs, total: 68.1 ms\n",
      "Wall time: 74.9 ms\n"
     ]
    },
    {
     "name": "stderr",
     "output_type": "stream",
     "text": [
      "<timed exec>:51: UserWarning: Matplotlib is currently using module://matplotlib_inline.backend_inline, which is a non-GUI backend, so cannot show the figure.\n"
     ]
    },
    {
     "data": {
      "image/png": "[encoded data removed]",
      "text/plain": [
       "<Figure size 1440x576 with 3 Axes>"
      ]
     },
     "metadata": {
      "needs_background": "light"
     },
     "output_type": "display_data"
    }
   ],
   "source": [
    "%%time\n",
    "# the size of window to average cycles over\n",
    "cycle_window = 10\n",
    "\n",
    "# prepare subplots\n",
    "fig, axes = plt.subplots(nrows=1, ncols=2, figsize=(20, 8), sharey=True, sharex=True)\n",
    "\n",
    "# switch order to iterate over different phi first, then different initial states\n",
    "all_average_polarizations_by_phi = list(zip(*all_average_polarizations))\n",
    "\n",
    "for average_polarizations, axis in zip(all_average_polarizations_by_phi, axes):\n",
    "\n",
    "    # compare the two polarization signals with signal_ratio\n",
    "    polarization_ratio = signal_ratio(*average_polarizations)\n",
    "\n",
    "    # define window indices\n",
    "    subdivisions = np.arange(cycle_window, num_cycles + 1, cycle_window)\n",
    "\n",
    "    # divide into cycles_window width sections and discard a final window that isn't full size\n",
    "    polarization_ratio_windows = np.split(polarization_ratio, subdivisions, axis=0)\n",
    "    if not polarization_ratio_windows[0].shape == polarization_ratio_windows[-1].shape: \n",
    "        polarization_ratio_windows = polarization_ratio_windows[:-1]\n",
    "    \n",
    "    # stack windows into a new axis\n",
    "    polarization_ratio_by_windows = np.stack(polarization_ratio_windows, axis=0)\n",
    "    \n",
    "    # average over cycle windows\n",
    "    average_polarization_ratio_by_windows = np.mean(polarization_ratio_by_windows, axis=1)\n",
    "\n",
    "    # repeat along the cycles axis, to return to original shape\n",
    "    average_polarization_ratio = np.repeat(average_polarization_ratio_by_windows, cycle_window, axis=0)\n",
    "\n",
    "    # plot polarizations as an image\n",
    "    artist = axis.imshow(average_polarization_ratio.T, aspect = 2.0, vmin=0, vmax=1.0)\n",
    "\n",
    "    # add labels and colorbar and title\n",
    "    axis.set_xlabel('Cycles')\n",
    "    axis.set_ylabel('Qubits')\n",
    "    axis.set_title('Polarization Ratio')\n",
    "    \n",
    "# add colorbar\n",
    "fig.colorbar(artist, ax=axes.ravel().tolist())\n",
    "\n",
    "# set phi labels\n",
    "phi_labels = ['\\phi_i \\in [-1.5 * \\pi, -0.5 * \\pi]', '\\phi_i = -0.4']\n",
    "\n",
    "# add phi labels\n",
    "for phi_label, axis in zip(phi_labels, axes): \n",
    "    fig.text(0.01, 0.99, phi_label, horizontalalignment='left', verticalalignment='top', transform=axis.transAxes, color='white')\n",
    "\n",
    "# show figure\n",
    "fig.show()\n"
   ]
  },
  {
   "cell_type": "code",
   "execution_count": 6,
   "metadata": {},
   "outputs": [
    {
     "name": "stdout",
     "output_type": "stream",
     "text": [
      "['\\\\phi_i \\\\in [-1.5 * \\\\pi, -0.5 * \\\\pi]', '\\\\phi_i = -0.4']\n"
     ]
    },
    {
     "name": "stderr",
     "output_type": "stream",
     "text": [
      "/tmp/ipykernel_459215/553033766.py:23: UserWarning: Matplotlib is currently using module://matplotlib_inline.backend_inline, which is a non-GUI backend, so cannot show the figure.\n",
      "  fig.show()\n"
     ]
    },
    {
     "data": {
      "image/png": "[encoded data removed]",
      "text/plain": [
       "<Figure size 576x576 with 1 Axes>"
      ]
     },
     "metadata": {
      "needs_background": "light"
     },
     "output_type": "display_data"
    }
   ],
   "source": [
    "# Slice graph\n",
    "\n",
    "# prepare subplots\n",
    "fig, axis = plt.subplots(nrows=1, ncols=1, figsize=(8, 8))\n",
    "\n",
    "print(phi_labels)\n",
    "for average_polarizations, phi_label in zip(all_average_polarizations_by_phi, phi_labels):\n",
    "\n",
    "    # compare the two polarization signals with signal_ratio\n",
    "    polarization_ratio = signal_ratio(*average_polarizations)\n",
    "\n",
    "    # only consider one window's worth of cycles\n",
    "    restricted_polarization_ratio = polarization_ratio[51:61, :]\n",
    "\n",
    "    # average over cycles\n",
    "    average_polarization_ratio = np.mean(restricted_polarization_ratio, axis=0)\n",
    "    \n",
    "    # plot line\n",
    "    axis.plot(average_polarization_ratio, label=phi_label)\n",
    "\n",
    "# add legend and show figure\n",
    "fig.legend(loc='upper center')\n",
    "fig.show()"
   ]
  }
 ],
 "metadata": {
  "colab": {
   "collapsed_sections": [],
   "name": "MBL_DTC Experiment and Graph Recreation",
   "provenance": []
  },
  "kernelspec": {
   "display_name": "Python 3 (ipykernel)",
   "language": "python",
   "name": "python3"
  },
  "language_info": {
   "codemirror_mode": {
    "name": "ipython",
    "version": 3
   },
   "file_extension": ".py",
   "mimetype": "text/x-python",
   "name": "python",
   "nbconvert_exporter": "python",
   "pygments_lexer": "ipython3",
   "version": "3.9.7"
  }
 },
 "nbformat": 4,
 "nbformat_minor": 1
}
