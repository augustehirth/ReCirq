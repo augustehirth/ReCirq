{
 "cells": [
  {
   "cell_type": "code",
   "execution_count": null,
   "metadata": {
    "colab": {
     "base_uri": "https://localhost:8080/",
     "height": 1000
    },
    "id": "EkaIfQIIkXjE",
    "outputId": "49ea9cac-afcc-4672-e30a-28a5b822d7cc",
    "scrolled": true
   },
   "outputs": [],
   "source": [
    "!pip install cirq --pre"
   ]
  },
  {
   "cell_type": "code",
   "execution_count": 2,
   "metadata": {
    "id": "5tTJoyYMk0bK"
   },
   "outputs": [],
   "source": [
    "import cirq\n",
    "import numpy as np\n",
    "import matplotlib.pyplot as plt\n",
    "import recirq.mbl_dtc as dtc_utils"
   ]
  },
  {
   "cell_type": "code",
   "execution_count": 3,
   "metadata": {
    "id": "D8ntbOBa4MKZ"
   },
   "outputs": [],
   "source": [
    "# Variables used across all figures\n",
    "\n",
    "# define the qubits we'll be using\n",
    "qubit_locations = [(3, 9), (3, 8), (3, 7), (4, 7), (4, 8), (5, 8), (5, 7), (5, 6), (6, 6), (6, 5), (7, 5), (8, 5),\n",
    "              (8, 4), (8, 3), (7, 3), (6, 3)]\n",
    "\n",
    "qubits = [cirq.GridQubit(*idx) for idx in qubit_locations]\n",
    "num_qubits = len(qubits)\n",
    "\n",
    "# prepare our DTC circuit list, with 0 through 100 cycles\n",
    "num_cycles = 100\n",
    "circuit_list = dtc_utils.symbolic_dtc_circuit_list(qubits=qubits, cycles=num_cycles)"
   ]
  },
  {
   "cell_type": "code",
   "execution_count": 4,
   "metadata": {
    "colab": {
     "base_uri": "https://localhost:8080/"
    },
    "id": "wHYBaB91lg0N",
    "outputId": "c9e0e261-68c9-46ec-a303-9ae97d664424"
   },
   "outputs": [
    {
     "name": "stderr",
     "output_type": "stream",
     "text": [
      "<timed exec>:96: UserWarning: Matplotlib is currently using module://matplotlib_inline.backend_inline, which is a non-GUI backend, so cannot show the figure.\n"
     ]
    },
    {
     "name": "stdout",
     "output_type": "stream",
     "text": [
      "CPU times: user 17min 6s, sys: 1.36 s, total: 17min 8s\n",
      "Wall time: 17min 8s\n"
     ]
    },
    {
     "data": {
      "image/png": "[encoded data removed]",
      "text/plain": [
       "<Figure size 1440x720 with 1 Axes>"
      ]
     },
     "metadata": {
      "needs_background": "light"
     },
     "output_type": "display_data"
    }
   ],
   "source": [
    "%%time\n",
    "# Figure 3b\n",
    "\n",
    "# constants for thermalization (g), and instances for disorder and random initial states\n",
    "disorder_instances = 24\n",
    "initial_state_instances = 20 # is 500 in the paper\n",
    "g = 0.94\n",
    "\n",
    "# use thermalization (g) for all instances\n",
    "gs = np.full(disorder_instances, g)\n",
    "\n",
    "# parameters for two-qubit FSim gates\n",
    "# zeros for theta, zeta, chi\n",
    "thetas = np.zeros((disorder_instances, num_qubits))\n",
    "zetas = np.zeros((disorder_instances, num_qubits))\n",
    "chis = np.zeros((disorder_instances, num_qubits))\n",
    "\n",
    "# prepare random initial states\n",
    "initial_states = np.random.choice(2, (initial_state_instances, num_qubits))\n",
    "\n",
    "# disorder instances h and phi\n",
    "local_fields = np.random.uniform(-1.0, 1.0, (disorder_instances, num_qubits))\n",
    "disordered_phis = np.random.uniform(-1.5*np.pi, -0.5*np.pi, (disorder_instances, num_qubits))\n",
    "\n",
    "# expand fixed phis for all instances and qubits\n",
    "fixed_phi = -0.4\n",
    "fixed_phis = np.full((disorder_instances, num_qubits), fixed_phi)\n",
    "\n",
    "# only look at circuits with up to 31 cycles\n",
    "circuit_list_3b = circuit_list[:32]\n",
    "\n",
    "fig, axis = plt.subplots(nrows=1, ncols=1, figsize=(20,10))\n",
    "\n",
    "# create a param resolver sweep over initial states\n",
    "initial_state_instance_sweep = dtc_utils.dtc_param_resolver_sweep(None, initial_states, None, None, None, None, None)\n",
    "\n",
    "# set phi labels\n",
    "phi_labels = ['\\phi_i \\in [-1.5 * \\pi, -0.5 * \\pi]', '\\phi_i = -0.4']\n",
    "\n",
    "for random_phi, phi_label in zip([True, False], phi_labels): \n",
    "    # use either random, disordered phis or fixed ones\n",
    "    if random_phi: \n",
    "        phis = disordered_phis\n",
    "    else: \n",
    "        phis = fixed_phis\n",
    "    # gamma dependent on phis\n",
    "    gammas = -1/2*phis\n",
    "\n",
    "    # create a param resolver sweep over the disorder instances\n",
    "    disorder_instance_sweep = dtc_utils.dtc_param_resolver_sweep(gs, None, local_fields, thetas, zetas, chis, gammas, phis)\n",
    "\n",
    "    # create the param resolver sweep we're going to use, as a product of the disorder and initial state sweeps\n",
    "    param_resolvers = cirq.Product(initial_state_instance_sweep, disorder_instance_sweep)\n",
    "\n",
    "    # allocate ndarray to hold polarizations\n",
    "    average_polarizations = np.zeros((initial_state_instances, disorder_instances, 2))\n",
    "\n",
    "    # prepare simulation generator\n",
    "    probabilities_generator = dtc_utils.simulate_dtc_circuit_list_sweep(circuit_list_3b, param_resolvers, qubits)\n",
    "    \n",
    "    # simulate and get probabilities\n",
    "    for index, instance_probabilities in enumerate(probabilities_generator): \n",
    "        # our product sweep iterates over initial_state instances, then disorder instances\n",
    "        # separate out the indices of initial_state and disorder from the overall index\n",
    "        initial_state_index = index // disorder_instances \n",
    "        disorder_index = index % disorder_instances\n",
    "\n",
    "        # only consider cycles 30 and 31\n",
    "        instance_probabilities = instance_probabilities[-2:, :]\n",
    "\n",
    "        # select the correct initial state to compare polarizations against\n",
    "        initial_state = initial_states[initial_state_index]\n",
    "\n",
    "        # turn probabilities into polarizations, relative to initial state\n",
    "        instance_polarizations = dtc_utils.get_polarizations(instance_probabilities, num_qubits, cycles_axis=0, probabilities_axis=1, initial_states=initial_state)\n",
    "\n",
    "        # average over qubit site\n",
    "        average_instance_polarizations = np.mean(instance_polarizations, axis=1)\n",
    "\n",
    "        # store average instance polarizations in overall average polarizations ndarray\n",
    "        average_polarizations[initial_state_index, disorder_index, :] = average_instance_polarizations\n",
    "    \n",
    "    # average over disorder\n",
    "    average_polarizations = np.mean(average_polarizations, axis=1)\n",
    "\n",
    "    # take absolute value\n",
    "    average_polarizations = np.abs(average_polarizations)\n",
    "\n",
    "    # average over cycles\n",
    "    average_polarizations = np.mean(average_polarizations, axis=1)\n",
    "\n",
    "    # plot in a histogram\n",
    "    axis.hist(average_polarizations, label=phi_label, bins=np.linspace(0.15, 0.85, initial_state_instances//2))\n",
    "\n",
    "# add legend and show\n",
    "fig.legend()\n",
    "fig.show()"
   ]
  }
 ],
 "metadata": {
  "colab": {
   "collapsed_sections": [],
   "name": "MBL_DTC Experiment and Graph Recreation",
   "provenance": []
  },
  "kernelspec": {
   "display_name": "Python 3 (ipykernel)",
   "language": "python",
   "name": "python3"
  },
  "language_info": {
   "codemirror_mode": {
    "name": "ipython",
    "version": 3
   },
   "file_extension": ".py",
   "mimetype": "text/x-python",
   "name": "python",
   "nbconvert_exporter": "python",
   "pygments_lexer": "ipython3",
   "version": "3.9.7"
  }
 },
 "nbformat": 4,
 "nbformat_minor": 1
}
