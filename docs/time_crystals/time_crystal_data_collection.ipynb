{
 "cells": [
  {
   "cell_type": "code",
   "execution_count": null,
   "metadata": {},
   "outputs": [],
   "source": [
    "# Copyright 2021 Google\n",
    "#\n",
    "# Licensed under the Apache License, Version 2.0 (the \"License\");\n",
    "# you may not use this file except in compliance with the License.\n",
    "# You may obtain a copy of the License at\n",
    "#\n",
    "#     https://www.apache.org/licenses/LICENSE-2.0\n",
    "#\n",
    "# Unless required by applicable law or agreed to in writing, software\n",
    "# distributed under the License is distributed on an \"AS IS\" BASIS,\n",
    "# WITHOUT WARRANTIES OR CONDITIONS OF ANY KIND, either express or implied.\n",
    "# See the License for the specific language governing permissions and\n",
    "# limitations under the License."
   ]
  },
  {
   "cell_type": "code",
   "execution_count": null,
   "metadata": {
    "colab": {
     "base_uri": "https://localhost:8080/",
     "height": 1000
    },
    "id": "EkaIfQIIkXjE",
    "outputId": "49ea9cac-afcc-4672-e30a-28a5b822d7cc",
    "scrolled": false
   },
   "outputs": [],
   "source": [
    "!pip install cirq --pre"
   ]
  },
  {
   "cell_type": "code",
   "execution_count": 2,
   "metadata": {
    "id": "5tTJoyYMk0bK"
   },
   "outputs": [],
   "source": [
    "import cirq\n",
    "import itertools\n",
    "import numpy as np\n",
    "import matplotlib.pyplot as plt\n",
    "import recirq.time_crystals as time_crystals"
   ]
  },
  {
   "cell_type": "code",
   "execution_count": 3,
   "metadata": {
    "id": "D8ntbOBa4MKZ"
   },
   "outputs": [],
   "source": [
    "# define the qubits we'll be using\n",
    "qubit_locations = [(3, 9), (3, 8), (3, 7), (4, 7), (4, 8), (5, 8), (5, 7), (5, 6), (6, 6), (6, 5), (7, 5), (8, 5),\n",
    "              (8, 4), (8, 3), (7, 3), (6, 3)]\n",
    "\n",
    "qubits = [cirq.GridQubit(*idx) for idx in qubit_locations]\n",
    "num_qubits = len(qubits)\n",
    "\n",
    "# prepare our DTC circuit list, with 0 through 100 cycles\n",
    "num_cycles = 100\n",
    "circuit_list = time_crystals.symbolic_dtc_circuit_list(qubits=qubits, cycles=num_cycles)\n",
    "\n",
    "# dir to store data in\n",
    "base_dir = time_crystals.DEFAULT_BASE_DIR"
   ]
  },
  {
   "cell_type": "code",
   "execution_count": 4,
   "metadata": {
    "colab": {
     "base_uri": "https://localhost:8080/",
     "height": 511
    },
    "id": "8_rImPnElMGJ",
    "outputId": "d0ddd5af-8ac6-4ae7-8bb7-1aa1ddbc09a9"
   },
   "outputs": [
    {
     "name": "stdout",
     "output_type": "stream",
     "text": [
      "CPU times: user 2min 43s, sys: 80.7 ms, total: 2min 43s\n",
      "Wall time: 2min 43s\n"
     ]
    }
   ],
   "source": [
    "%%time\n",
    "# Figure 2d\n",
    "\n",
    "# options for thermalization constant (g) and number of disorder instances to average over\n",
    "g_options = [0.6, 0.94]\n",
    "disorder_instances = 36\n",
    "\n",
    "# random initial states\n",
    "initial_states = np.random.choice(2, (disorder_instances, num_qubits))\n",
    "\n",
    "# random noise (h)\n",
    "local_fields = np.random.uniform(-1.0, 1.0, (disorder_instances, num_qubits))\n",
    "\n",
    "# random gammas\n",
    "gammas = -np.random.uniform(0.5*np.pi, 1.5*np.pi, (disorder_instances, num_qubits - 1))\n",
    "\n",
    "# collect average polarizations by g option\n",
    "average_polarizations = np.empty((2, num_cycles+1, num_qubits))\n",
    "\n",
    "# evaluate and yield probabilities and their associated initial states for each of the input options for thermalization (g)\n",
    "for g_index, g in enumerate(g_options):\n",
    "    # create task\n",
    "    dtctask = time_crystals.DTCTask(\n",
    "        qubits=qubits,\n",
    "        g=g,\n",
    "        disorder_instances=disorder_instances,\n",
    "        initial_states=initial_states,\n",
    "        local_fields=local_fields,\n",
    "        gammas=gammas)\n",
    "\n",
    "    # get absolute value of polarizations, averaged over disorder instances\n",
    "    disorder_averaged_polarizations = time_crystals.simulate_for_polarizations(dtctask, circuit_list)\n",
    "    \n",
    "    # store\n",
    "    average_polarizations[g_index, :, :] = disorder_averaged_polarizations\n",
    "    \n",
    "# save data in json format\n",
    "filename = f'{base_dir}/2d.json'\n",
    "with open(filename, 'w+') as f:\n",
    "    cirq.to_json(average_polarizations, file_or_fn=f)"
   ]
  },
  {
   "cell_type": "code",
   "execution_count": 5,
   "metadata": {},
   "outputs": [
    {
     "name": "stdout",
     "output_type": "stream",
     "text": [
      "CPU times: user 5min 28s, sys: 188 ms, total: 5min 28s\n",
      "Wall time: 5min 28s\n"
     ]
    }
   ],
   "source": [
    "%%time\n",
    "# Figure 3a\n",
    "\n",
    "# number of disorder instances to average over\n",
    "disorder_instances = 24\n",
    "\n",
    "# random noise (h)\n",
    "local_fields = np.random.uniform(-1.0, 1.0, (disorder_instances, num_qubits))\n",
    "\n",
    "# prepare random and fixed phis to compare\n",
    "disordered_phis = np.random.uniform(-1.5*np.pi, -0.5*np.pi, (disorder_instances, num_qubits - 1))\n",
    "fixed_phis = np.full((disorder_instances, num_qubits - 1), -0.4)\n",
    "\n",
    "# prepare 3 initial states to compare\n",
    "neel_initial_state = np.tile([0,1], num_qubits//2)\n",
    "polarized_initial_state = np.full(num_qubits, 0)\n",
    "random_initial_state = [0,0,1,1,1,0,0,0,0,1,0,0,1,1,0,0,1,1,1,1][:num_qubits]\n",
    "initial_states = [neel_initial_state, polarized_initial_state, random_initial_state]\n",
    "\n",
    "# collect average polarizations by phi option and initial state\n",
    "average_polarizations = np.empty((2, len(initial_states), num_cycles+1))\n",
    "\n",
    "# prepare instances iterator\n",
    "instances_iterator = itertools.product(enumerate([True, False]), enumerate(initial_states))\n",
    "\n",
    "for (phi_index, random_phi), (initial_state_index, initial_state) in instances_iterator: \n",
    "    # use either random, disordered phis or fixed ones\n",
    "    phis = disordered_phis if random_phi else fixed_phis\n",
    "    \n",
    "    # create task\n",
    "    dtctask = time_crystals.DTCTask(\n",
    "        qubits=qubits,\n",
    "        disorder_instances=disorder_instances,\n",
    "        initial_state=initial_state,\n",
    "        local_fields=local_fields,\n",
    "        phis=phis)\n",
    "\n",
    "    # get absolute value of polarizations, averaged over disorder instances\n",
    "    disorder_averaged_polarizations = time_crystals.simulate_for_polarizations(dtctask, circuit_list)\n",
    "\n",
    "    # average over qubit sites, leaving cycles, and store\n",
    "    average_polarizations[phi_index, initial_state_index, :] = np.mean(disorder_averaged_polarizations, axis=1)\n",
    "\n",
    "# save data in json format\n",
    "filename = f'{base_dir}/3a.json'\n",
    "with open(filename, 'w+') as f:\n",
    "    cirq.to_json(average_polarizations, file_or_fn=f)"
   ]
  },
  {
   "cell_type": "code",
   "execution_count": 6,
   "metadata": {},
   "outputs": [
    {
     "name": "stdout",
     "output_type": "stream",
     "text": [
      "CPU times: user 36min 30s, sys: 1.19 s, total: 36min 32s\n",
      "Wall time: 36min 32s\n"
     ]
    }
   ],
   "source": [
    "%%time\n",
    "# Figure 3b\n",
    "\n",
    "# instances for disorder and random initial states\n",
    "disorder_instances = 24\n",
    "initial_state_instances = 20# is 500 in the paper\n",
    "\n",
    "# prepare random initial states\n",
    "initial_states = np.random.choice(2, (initial_state_instances, num_qubits))\n",
    "\n",
    "# disorder instances h\n",
    "local_fields = np.random.uniform(-1.0, 1.0, (disorder_instances, num_qubits))\n",
    "\n",
    "# Different phis to compare\n",
    "disordered_phis = np.random.uniform(-1.5*np.pi, -0.5*np.pi, (disorder_instances, num_qubits - 1))\n",
    "fixed_phis = np.full((disorder_instances, num_qubits - 1), -0.4)\n",
    "\n",
    "# collect average polarizations by phi option and initial state\n",
    "average_polarizations = np.empty((2, initial_state_instances))\n",
    "\n",
    "for phi_index, random_phi in enumerate([True, False]): \n",
    "    # use either random, disordered phis or fixed ones\n",
    "    phis = disordered_phis if random_phi else fixed_phis\n",
    "\n",
    "    for initial_state_index, initial_state in enumerate(initial_states):\n",
    "        # create task\n",
    "        dtctask = time_crystals.DTCTask(\n",
    "            qubits=qubits,\n",
    "            disorder_instances=disorder_instances,\n",
    "            initial_state=initial_state,\n",
    "            local_fields=local_fields,\n",
    "            phis=phis)\n",
    "\n",
    "        # get absolute value of polarizations, averaged over disorder instances\n",
    "        disorder_averaged_polarizations = time_crystals.simulate_for_polarizations(dtctask, circuit_list, autocorrelate=False, take_abs=True)\n",
    "        \n",
    "        # average over qubit sites and cycles 30 and 31\n",
    "        averaged_polarization = np.mean(disorder_averaged_polarizations[30:32, ...])\n",
    "            \n",
    "        # store average polarizations for this initial state\n",
    "        average_polarizations[phi_index, initial_state_index] = averaged_polarization\n",
    "\n",
    "# save data in json format\n",
    "filename = f'{base_dir}/3b.json'\n",
    "with open(filename, 'w+') as f:\n",
    "    cirq.to_json(average_polarizations, file_or_fn=f)"
   ]
  },
  {
   "cell_type": "code",
   "execution_count": 7,
   "metadata": {},
   "outputs": [
    {
     "name": "stdout",
     "output_type": "stream",
     "text": [
      "CPU times: user 3min 41s, sys: 84 ms, total: 3min 41s\n",
      "Wall time: 3min 41s\n"
     ]
    }
   ],
   "source": [
    "%%time\n",
    "# Figure 3c\n",
    "\n",
    "# number of disorder instances to average over\n",
    "disorder_instances = 24\n",
    "\n",
    "# disorder parameters h and phi\n",
    "local_fields = np.random.uniform(-1.0, 1.0, (disorder_instances, num_qubits))\n",
    "\n",
    "# expand fixed phis for all instances and qubits\n",
    "disordered_phis = np.random.uniform(-1.5*np.pi, -0.5*np.pi, (disorder_instances, num_qubits - 1))\n",
    "fixed_phis = np.full((disorder_instances, num_qubits - 1), -0.4)\n",
    "\n",
    "# prepare two initial states to compare\n",
    "disturb_qubit = 11\n",
    "polarized_initial_state = [0]*num_qubits\n",
    "disturbed_polarized_initial_state = list(polarized_initial_state)\n",
    "disturbed_polarized_initial_state[disturb_qubit] = 1\n",
    "initial_states = [polarized_initial_state, disturbed_polarized_initial_state]\n",
    "initial_state_instances = len(initial_states)\n",
    "\n",
    "# collect average polarizations by phi option\n",
    "average_polarizations = np.empty((2, initial_state_instances, 31, 4))\n",
    "\n",
    "# prepare instances iterator\n",
    "instances_iterator = itertools.product(enumerate([disordered_phis, fixed_phis]), enumerate(initial_states))\n",
    "\n",
    "for (phi_index, phis), (initial_state_index, initial_state) in instances_iterator: \n",
    "    \n",
    "    # create task\n",
    "    dtctask = time_crystals.DTCTask(\n",
    "        qubits=qubits,\n",
    "        disorder_instances=disorder_instances,\n",
    "        initial_state=initial_state,\n",
    "        local_fields=local_fields,\n",
    "        phis=phis)\n",
    "\n",
    "    # get polarizations, averaged over disorder instances\n",
    "    disorder_averaged_polarizations = time_crystals.simulate_for_polarizations(dtctask, circuit_list, autocorrelate=False)\n",
    "\n",
    "    # limit to cycles 30 through 60, and qubits 11 through 14, and save\n",
    "    average_polarizations[phi_index, initial_state_index, :, :] = disorder_averaged_polarizations[30:61, 11:15]\n",
    "\n",
    "# save data in json format\n",
    "filename = f'{base_dir}/3c.json'\n",
    "with open(filename, 'w+') as f:\n",
    "    cirq.to_json(average_polarizations, file_or_fn=f)"
   ]
  },
  {
   "cell_type": "code",
   "execution_count": 8,
   "metadata": {},
   "outputs": [
    {
     "name": "stdout",
     "output_type": "stream",
     "text": [
      "CPU times: user 10min 49s, sys: 228 ms, total: 10min 49s\n",
      "Wall time: 10min 49s\n"
     ]
    }
   ],
   "source": [
    "%%time\n",
    "# Figure 3d\n",
    "\n",
    "# prepare two initial states to compare\n",
    "disturb_qubit = 11\n",
    "polarized_initial_state = np.full(num_qubits, 0)\n",
    "disturbed_polarized_initial_state = polarized_initial_state.copy()\n",
    "disturbed_polarized_initial_state[disturb_qubit] = 1\n",
    "initial_states = [polarized_initial_state, disturbed_polarized_initial_state]\n",
    "initial_state_instances = len(initial_states)\n",
    "\n",
    "# we have different disorder instances for the two initial states\n",
    "disorder_instances_options = [64, 81]\n",
    "\n",
    "# collect polarizations first\n",
    "average_polarizations = np.empty((2, initial_state_instances, num_cycles + 1, num_qubits))\n",
    "\n",
    "# iterate over initial states and their associated number of disorder instances\n",
    "for initial_state_index, (initial_state, disorder_instances) in enumerate(zip(initial_states, disorder_instances_options)): \n",
    "    \n",
    "    # disorder parameters h and phi \n",
    "    local_fields = np.random.uniform(-1.0, 1.0, (disorder_instances, num_qubits))\n",
    "    \n",
    "    # expand fixed phis for all instances and qubits\n",
    "    disordered_phis = np.random.uniform(-1.5*np.pi, -0.5*np.pi, (disorder_instances, num_qubits - 1))\n",
    "    fixed_phis = np.full((disorder_instances, num_qubits - 1), -0.4)\n",
    "\n",
    "    # expand initial states for each disorder instance\n",
    "    initial_state_array = np.asarray([initial_state] * disorder_instances)\n",
    "\n",
    "    average_polarizations_by_phi = []\n",
    "    for phi_index, phis in enumerate([disordered_phis, fixed_phis]):\n",
    "        \n",
    "        # create task\n",
    "        dtctask = time_crystals.DTCTask(\n",
    "            qubits=qubits,\n",
    "            disorder_instances=disorder_instances,\n",
    "            initial_state=initial_state,\n",
    "            local_fields=local_fields,\n",
    "            phis=phis)\n",
    "\n",
    "        # get polarizations, averaged over disorder instances\n",
    "        disorder_averaged_polarizations = time_crystals.simulate_for_polarizations(dtctask, circuit_list, autocorrelate=False)\n",
    "\n",
    "        # store average polarizations\n",
    "        average_polarizations[phi_index, initial_state_index, :, :] = disorder_averaged_polarizations\n",
    "\n",
    "        \n",
    "# save data in json format\n",
    "filename = f'{base_dir}/3d.json'\n",
    "with open(filename, 'w+') as f:\n",
    "    cirq.to_json(average_polarizations, file_or_fn=f)"
   ]
  }
 ],
 "metadata": {
  "colab": {
   "collapsed_sections": [],
   "name": "MBL_DTC Experiment and Graph Recreation",
   "provenance": []
  },
  "kernelspec": {
   "display_name": "Python 3 (ipykernel)",
   "language": "python",
   "name": "python3"
  },
  "language_info": {
   "codemirror_mode": {
    "name": "ipython",
    "version": 3
   },
   "file_extension": ".py",
   "mimetype": "text/x-python",
   "name": "python",
   "nbconvert_exporter": "python",
   "pygments_lexer": "ipython3",
   "version": "3.9.8"
  }
 },
 "nbformat": 4,
 "nbformat_minor": 1
}
